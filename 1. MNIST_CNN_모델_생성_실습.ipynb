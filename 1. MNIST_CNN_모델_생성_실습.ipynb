{
  "nbformat": 4,
  "nbformat_minor": 0,
  "metadata": {
    "colab": {
      "name": "1. MNIST CNN 모델 생성 실습.ipynb",
      "provenance": [],
      "collapsed_sections": [],
      "include_colab_link": true
    },
    "kernelspec": {
      "name": "python3",
      "display_name": "Python 3"
    },
    "accelerator": "GPU"
  },
  "cells": [
    {
      "cell_type": "markdown",
      "metadata": {
        "id": "view-in-github",
        "colab_type": "text"
      },
      "source": [
        "<a href=\"https://colab.research.google.com/github/park-jiha/CNN/blob/main/1.%20MNIST_CNN_%EB%AA%A8%EB%8D%B8_%EC%83%9D%EC%84%B1_%EC%8B%A4%EC%8A%B5.ipynb\" target=\"_parent\"><img src=\"https://colab.research.google.com/assets/colab-badge.svg\" alt=\"Open In Colab\"/></a>"
      ]
    },
    {
      "cell_type": "markdown",
      "metadata": {
        "id": "-xExAqUWnH5J"
      },
      "source": [
        "## MNIST_CNN "
      ]
    },
    {
      "cell_type": "markdown",
      "metadata": {
        "id": "NQYzZ3NrBxMn"
      },
      "source": [
        "### GPU 사용을 위한 환경 세팅\n",
        "- 런타임 => 런타임유형변경 => 하드웨어가속기 => GPU로 설정\n",
        "\n",
        "### GUI 확인\n",
        "![GUI](https://user-images.githubusercontent.com/11758940/84726212-581efd00-afc7-11ea-8166-dd4dda7b8e28.png)"
      ]
    },
    {
      "cell_type": "markdown",
      "source": [
        "### 잠깐! Pytorch Document랑 친해지자\n",
        "https://pytorch.org/docs/stable/index.html"
      ],
      "metadata": {
        "id": "Pmto43p5roDP"
      }
    },
    {
      "cell_type": "code",
      "metadata": {
        "id": "hZqtN_FBxeo8"
      },
      "source": [
        "# 필요 라이브러리 import\n",
        "\n",
        "import torch\n",
        "import torchvision.datasets as dsets\n",
        "import torchvision.transforms as transforms\n",
        "import torch.nn.init"
      ],
      "execution_count": 94,
      "outputs": []
    },
    {
      "cell_type": "code",
      "metadata": {
        "id": "91zmIrLzxwIv"
      },
      "source": [
        "device = 'cuda' if torch.cuda.is_available() else 'cpu' # cuda device 설정!!\n",
        "\n",
        "# 시드 고정, 설명 들었었죠?\n",
        "torch.manual_seed(777)\n",
        "if device == 'cuda':\n",
        "    torch.cuda.manual_seed_all(777)"
      ],
      "execution_count": 95,
      "outputs": []
    },
    {
      "cell_type": "code",
      "metadata": {
        "id": "rGyVS6rtx1zA"
      },
      "source": [
        "# MNIST dataset\n",
        "\n",
        "mnist_train = dsets.MNIST(root='MNIST_data/',\n",
        "                          train=True,\n",
        "                          transform=transforms.ToTensor(),\n",
        "                          download=True)\n",
        "\n",
        "mnist_test = dsets.MNIST(root='MNIST_data/',\n",
        "                         train=False,\n",
        "                         transform=transforms.ToTensor(),\n",
        "                         download=True)"
      ],
      "execution_count": 96,
      "outputs": []
    },
    {
      "cell_type": "code",
      "metadata": {
        "id": "0JUl2jMex50I"
      },
      "source": [
        "# dataset loader\n",
        "\n",
        "data_loader = torch.utils.data.DataLoader(dataset=mnist_train,\n",
        "                                          batch_size=100,\n",
        "                                          shuffle=True,\n",
        "                                          drop_last=True)"
      ],
      "execution_count": 97,
      "outputs": []
    },
    {
      "cell_type": "markdown",
      "metadata": {
        "id": "5Xr5bwiNGMSZ"
      },
      "source": [
        "## >> 버전 1.0\n",
        "![대체 텍스트](https://user-images.githubusercontent.com/11758940/84732337-63c5f000-afd6-11ea-9e7b-3c4c88785213.png)"
      ]
    },
    {
      "cell_type": "code",
      "metadata": {
        "id": "8U86AQqyCbgF"
      },
      "source": [
        "## 버전 1.0 = 쭉 나열하기\n",
        "class CNN_v1(torch.nn.Module):\n",
        "  def __init__(self):\n",
        "    super(CNN_v1,self).__init__() # 이부분 빼먹기 쉬운데 조심할 것\n",
        "\n",
        "    self.conv1 = torch.nn.Conv2d(1,32,kernel_size=3,stride=1,padding=1)\n",
        "    self.relu1 = torch.nn.ReLU()\n",
        "    self.maxpool1 = torch.nn.MaxPool2d(kernel_size=2,stride=2)\n",
        "\n",
        "    self.conv2 = torch.nn.Conv2d(32,64,kernel_size=3,stride=1,padding=1)\n",
        "    self.relu2 = torch.nn.ReLU()\n",
        "    self.maxpool2 = torch.nn.MaxPool2d(kernel_size=2,stride=2) \n",
        "\n",
        "    self.fc = torch.nn.Linear(7*7*64,10,bias=True)\n",
        "    torch.nn.init.kaiming_uniform(self.fc.weight)\n",
        "\n",
        "  def forward(self,x):\n",
        "    out = self.conv1(x)\n",
        "    out = self.relu1(out)\n",
        "    out = self.maxpool1(out)\n",
        "    out = self.conv2(out)\n",
        "    out = self.relu2(out)\n",
        "    out = self.maxpool2(out)\n",
        "    out = out.view(out.size(0),-1)     # out = Batch(0) x 7(1) x 7(2) x 64(3)\n",
        "    out = self.fc(out)\n",
        "    return out"
      ],
      "execution_count": 98,
      "outputs": []
    },
    {
      "cell_type": "code",
      "source": [
        "# 반드시 직접 생성해보세요!\n",
        "\n",
        "\n",
        "\n",
        "\n",
        "\n"
      ],
      "metadata": {
        "id": "0r3mMvGSr_N8"
      },
      "execution_count": null,
      "outputs": []
    },
    {
      "cell_type": "markdown",
      "metadata": {
        "id": "cBWpK0CPaZJL"
      },
      "source": [
        "## >> 버전 2.0\n",
        "![대체 텍스트](https://user-images.githubusercontent.com/11758940/84732337-63c5f000-afd6-11ea-9e7b-3c4c88785213.png)"
      ]
    },
    {
      "cell_type": "code",
      "metadata": {
        "id": "aRjjbkxgJSdC"
      },
      "source": [
        "# 버전 2.0 = layer별로 묶어주기\n",
        "class CNN_v2(torch.nn.Module):\n",
        "  def __init__(self):\n",
        "    super(CNN_v2,self).__init__() # 이부분 빼먹기 쉬운데 조심할 것\n",
        "\n",
        "    self.layer1 = torch.nn.Sequential(\n",
        "        torch.nn.Conv2d(1,32,kernel_size=3,stride=1,padding=1),\n",
        "        torch.nn.ReLU(),\n",
        "        torch.nn.MaxPool2d(kernel_size=2,stride=2)\n",
        "    )\n",
        "\n",
        "    self.layer2 = torch.nn.Sequential(\n",
        "        torch.nn.Conv2d(32,64,kernel_size=3,stride=1,padding=1),\n",
        "        torch.nn.ReLU(),\n",
        "        torch.nn.MaxPool2d(kernel_size=2,stride=2)\n",
        "    ) \n",
        "\n",
        "    self.fc = torch.nn.Linear(7*7*64,10,bias=True)\n",
        "    torch.nn.init.kaiming_uniform(self.fc.weight)\n",
        "\n",
        "  def forward(self,x):\n",
        "    out = self.layer1(x)\n",
        "    out = self.layer2(out)\n",
        "    out = out.view(out.size(0),-1)     # out = Batch x 7 x 7 x 64\n",
        "    out = self.fc(out)\n",
        "    return out"
      ],
      "execution_count": 99,
      "outputs": []
    },
    {
      "cell_type": "code",
      "source": [
        "# 반드시 직접 생성해보세요!\n",
        "\n",
        "\n",
        "\n",
        "\n",
        "\n",
        "\n"
      ],
      "metadata": {
        "id": "-HDI_gOksHVt"
      },
      "execution_count": null,
      "outputs": []
    },
    {
      "cell_type": "code",
      "metadata": {
        "id": "S2mpSqfT5b-q",
        "colab": {
          "base_uri": "https://localhost:8080/"
        },
        "outputId": "16761e90-b0a6-4629-ae45-c3bb47f203e8"
      },
      "source": [
        "# 본인이 편하다고 생각하는 방식으로 쓰면 됩니다. 정답은 없어요\n",
        "\n",
        "model = CNN_v1().to(device)\n",
        "# model = CNN_v2().to(device)"
      ],
      "execution_count": 100,
      "outputs": [
        {
          "output_type": "stream",
          "name": "stderr",
          "text": [
            "/usr/local/lib/python3.7/dist-packages/ipykernel_launcher.py:15: UserWarning: nn.init.kaiming_uniform is now deprecated in favor of nn.init.kaiming_uniform_.\n",
            "  from ipykernel import kernelapp as app\n"
          ]
        }
      ]
    },
    {
      "cell_type": "code",
      "metadata": {
        "id": "mRoFoX_GL6Kg"
      },
      "source": [
        "# MNIST는 다중분류 -> CrossEntropyLoss겠죠?\n",
        "criterion = torch.nn.CrossEntropyLoss().to(device)    # Softmax is internally computed.\n",
        "optimizer = torch.optim.SGD(model.parameters(), lr=learning_rate)"
      ],
      "execution_count": 101,
      "outputs": []
    },
    {
      "cell_type": "code",
      "metadata": {
        "id": "56wj7BMUx0UR"
      },
      "source": [
        "# parameters -> 여러분들이 실험적으로 선택하는 파라미터 값들입니다. 본인의 생각대로 여러번 실험해보고 최적의 값을 찾아보세요!\n",
        "\n",
        "learning_rate = 0.1\n",
        "training_epochs = 12"
      ],
      "execution_count": 102,
      "outputs": []
    },
    {
      "cell_type": "code",
      "metadata": {
        "id": "VvtX6F8u-USV",
        "colab": {
          "base_uri": "https://localhost:8080/"
        },
        "outputId": "ae6d6452-331a-4132-d7a9-c7432547b144"
      },
      "source": [
        "# 2D => 1D로 변경할 필요 없음, 왜냐? CNN이기 때문에!\n",
        "\n",
        "total_batch = len(data_loader)\n",
        "\n",
        "for epoch in range(training_epochs):\n",
        "    avg_cost = 0\n",
        "\n",
        "    for X, Y in data_loader:\n",
        "        # image is already size of (28x28), no reshape\n",
        "        X = X.to(device)\n",
        "        Y = Y.to(device)\n",
        "\n",
        "        # H(x) 계산\n",
        "        hypothesis = model(X)\n",
        "        # cost 계산\n",
        "        cost = criterion(hypothesis, Y)\n",
        "\n",
        "        # cost로 H(x) 개선\n",
        "        optimizer.zero_grad()\n",
        "        cost.backward()\n",
        "        optimizer.step()\n",
        "\n",
        "        avg_cost += cost / total_batch\n",
        "\n",
        "    print('[Epoch: {:>2}] cost = {:>.9}'.format(epoch + 1, avg_cost))\n",
        "\n",
        "print('Learning Finished!')"
      ],
      "execution_count": 103,
      "outputs": [
        {
          "output_type": "stream",
          "name": "stdout",
          "text": [
            "[Epoch:  1] cost = 0.25607422\n",
            "[Epoch:  2] cost = 0.0825096592\n",
            "[Epoch:  3] cost = 0.0635287762\n",
            "[Epoch:  4] cost = 0.054260537\n",
            "[Epoch:  5] cost = 0.0461570807\n",
            "[Epoch:  6] cost = 0.0413110517\n",
            "[Epoch:  7] cost = 0.0378277488\n",
            "[Epoch:  8] cost = 0.0342775248\n",
            "[Epoch:  9] cost = 0.0318631157\n",
            "[Epoch: 10] cost = 0.0289999284\n",
            "[Epoch: 11] cost = 0.0266362764\n",
            "[Epoch: 12] cost = 0.024487555\n",
            "Learning Finished!\n"
          ]
        }
      ]
    },
    {
      "cell_type": "code",
      "metadata": {
        "id": "mUfJ-HHc-oUq",
        "colab": {
          "base_uri": "https://localhost:8080/"
        },
        "outputId": "54b1fc32-2776-41ac-ec87-88874a75c868"
      },
      "source": [
        "# 2D => 1D로 변경할 필요 없음\n",
        "\n",
        "# 테스트 후 정확도 확인\n",
        "with torch.no_grad():\n",
        "    X_test = mnist_test.test_data.view(len(mnist_test), 1, 28, 28).float().to(device)\n",
        "    Y_test = mnist_test.test_labels.to(device)\n",
        "\n",
        "    # 예측\n",
        "    prediction = model(X_test)\n",
        "\n",
        "    correct_prediction = torch.argmax(prediction, 1) == Y_test  # argmax를 쓰는 이유? = 가장 큰 가중치를 갖는 값을 뽑아온다고 생각하면 된다. Softmax!\n",
        "    accuracy = correct_prediction.float().mean()\n",
        "    print('Accuracy:', accuracy.item())"
      ],
      "execution_count": 104,
      "outputs": [
        {
          "output_type": "stream",
          "name": "stdout",
          "text": [
            "Accuracy: 0.9837999939918518\n"
          ]
        },
        {
          "output_type": "stream",
          "name": "stderr",
          "text": [
            "/usr/local/lib/python3.7/dist-packages/torchvision/datasets/mnist.py:67: UserWarning: test_data has been renamed data\n",
            "  warnings.warn(\"test_data has been renamed data\")\n",
            "/usr/local/lib/python3.7/dist-packages/torchvision/datasets/mnist.py:57: UserWarning: test_labels has been renamed targets\n",
            "  warnings.warn(\"test_labels has been renamed targets\")\n"
          ]
        }
      ]
    }
  ]
}